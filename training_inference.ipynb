{
  "nbformat": 4,
  "nbformat_minor": 0,
  "metadata": {
    "colab": {
      "provenance": [],
      "authorship_tag": "ABX9TyMeg9MEnr3AycoWk1kS/clF",
      "include_colab_link": true
    },
    "kernelspec": {
      "name": "python3",
      "display_name": "Python 3"
    },
    "language_info": {
      "name": "python"
    }
  },
  "cells": [
    {
      "cell_type": "markdown",
      "metadata": {
        "id": "view-in-github",
        "colab_type": "text"
      },
      "source": [
        "<a href=\"https://colab.research.google.com/github/harshitxjangam/Imageclass_DL/blob/main/training_inference.ipynb\" target=\"_parent\"><img src=\"https://colab.research.google.com/assets/colab-badge.svg\" alt=\"Open In Colab\"/></a>"
      ]
    },
    {
      "cell_type": "code",
      "execution_count": 1,
      "metadata": {
        "colab": {
          "base_uri": "https://localhost:8080/"
        },
        "id": "7EDv_sGf5OYo",
        "outputId": "11c8801f-f383-45f6-87bc-9ad7820727b9"
      },
      "outputs": [
        {
          "output_type": "stream",
          "name": "stdout",
          "text": [
            "Project folders created successfully ✅\n",
            "total 20\n",
            "drwxr-xr-x 2 root root 4096 Oct 15 03:29 data\n",
            "drwxr-xr-x 2 root root 4096 Oct 15 03:29 figures\n",
            "drwxr-xr-x 2 root root 4096 Oct 15 03:29 models\n",
            "drwxr-xr-x 2 root root 4096 Oct 15 03:29 notebooks\n",
            "drwxr-xr-x 1 root root 4096 Oct 13 13:43 sample_data\n"
          ]
        }
      ],
      "source": [
        "# create folder structure\n",
        "!mkdir -p data models figures notebooks\n",
        "!echo \"Project folders created successfully ✅\" && ls -l\n"
      ]
    },
    {
      "cell_type": "code",
      "source": [
        "%%writefile README.md\n",
        "# 🎶 Musical Instruments Image Classification\n",
        "\n",
        "This project trains multiple deep learning models (ResNet18, MobileNetV2, ViT)\n",
        "on a musical instruments dataset and explores inference optimization techniques\n",
        "(TorchScript, ONNX, and INT8 quantization).\n"
      ],
      "metadata": {
        "colab": {
          "base_uri": "https://localhost:8080/"
        },
        "id": "TdmwUhvN6jUp",
        "outputId": "0d11fe4b-3856-42f4-9859-dbaddb26f192"
      },
      "execution_count": 2,
      "outputs": [
        {
          "output_type": "stream",
          "name": "stdout",
          "text": [
            "Writing README.md\n"
          ]
        }
      ]
    },
    {
      "cell_type": "code",
      "source": [],
      "metadata": {
        "id": "IMDzRquZ6trN"
      },
      "execution_count": null,
      "outputs": []
    }
  ]
}